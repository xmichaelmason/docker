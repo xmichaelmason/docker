{
 "cells": [
  {
   "cell_type": "code",
   "execution_count": 1,
   "id": "7d6c7745-bd53-4fc3-bbdb-bee31e12a719",
   "metadata": {},
   "outputs": [
    {
     "name": "stdout",
     "output_type": "stream",
     "text": [
      "cuda\n"
     ]
    }
   ],
   "source": [
    "import torch, numpy, time\n",
    "\n",
    "device = 'cuda' if torch.cuda.is_available() else 'cpu'\n",
    "print(device)"
   ]
  },
  {
   "cell_type": "code",
   "execution_count": 2,
   "id": "825c3e50-48a0-4436-a653-77044b8af608",
   "metadata": {},
   "outputs": [
    {
     "name": "stdout",
     "output_type": "stream",
     "text": [
      "0.00033522\n",
      "CPU times: user 329 µs, sys: 224 µs, total: 553 µs\n",
      "Wall time: 386 µs\n"
     ]
    }
   ],
   "source": [
    "%%time\n",
    "start_time = time.time()\n",
    "zeros = torch.zeros(1,1)\n",
    "end_time = time.time()\n",
    "\n",
    "elapsed_time = end_time - start_time\n",
    "print(f'{elapsed_time:.8f}')"
   ]
  },
  {
   "cell_type": "code",
   "execution_count": 4,
   "id": "8003a0bf-b143-4271-9b41-45b21903c2b6",
   "metadata": {},
   "outputs": [
    {
     "name": "stdout",
     "output_type": "stream",
     "text": [
      "GPU 10000^2 Elapsed: 0.00797581672668457\n",
      "GPU 100^4 Elapsed: 0.00021028518676757812\n",
      "CPU 10000^2 Elapsed: 2.4573471546173096\n",
      "CPU 100^4 Elapsed: 0.06881356239318848\n"
     ]
    }
   ],
   "source": [
    "torch_rand1 = torch.rand(10000, 10000).to(device)\n",
    "torch_rand2 = torch.rand(10000, 10000).to(device)\n",
    "torch_rand3 = torch.rand(100, 100, 100, 100).to(device)\n",
    "torch_rand4 = torch.rand(100, 100, 100, 100).to(device)\n",
    "\n",
    "np_rand1 = torch.rand(10000, 10000)\n",
    "np_rand2 = torch.rand(10000, 10000)\n",
    "np_rand3 = torch.rand(100, 100, 100, 100)\n",
    "np_rand4 = torch.rand(100, 100, 100, 100)\n",
    "\n",
    "start_time = time.time()\n",
    "rand = torch_rand1 @ torch_rand2\n",
    "end_time = time.time()\n",
    "\n",
    "elapsed_time = end_time - start_time\n",
    "print(f'GPU 10000^2 Elapsed: {elapsed_time}')\n",
    "\n",
    "start_time = time.time()\n",
    "rand = torch_rand3 @ torch_rand4\n",
    "end_time = time.time()\n",
    "\n",
    "elapsed_time = end_time - start_time\n",
    "print(f'GPU 100^4 Elapsed: {elapsed_time}')\n",
    "\n",
    "start_time = time.time()\n",
    "rand = np_rand1 @ np_rand2\n",
    "end_time = time.time()\n",
    "\n",
    "elapsed_time = end_time - start_time\n",
    "print(f'CPU 10000^2 Elapsed: {elapsed_time}')\n",
    "\n",
    "start_time = time.time()\n",
    "rand = np_rand3 @ np_rand4\n",
    "end_time = time.time()\n",
    "\n",
    "elapsed_time = end_time - start_time\n",
    "print(f'CPU 100^4 Elapsed: {elapsed_time}')"
   ]
  },
  {
   "cell_type": "code",
   "execution_count": null,
   "id": "d73c4b38-6b3e-40d1-8378-c2426f49b1f1",
   "metadata": {},
   "outputs": [],
   "source": []
  }
 ],
 "metadata": {
  "kernelspec": {
   "display_name": "cuda-gpt",
   "language": "python",
   "name": "cuda"
  },
  "language_info": {
   "codemirror_mode": {
    "name": "ipython",
    "version": 3
   },
   "file_extension": ".py",
   "mimetype": "text/x-python",
   "name": "python",
   "nbconvert_exporter": "python",
   "pygments_lexer": "ipython3",
   "version": "3.10.12"
  }
 },
 "nbformat": 4,
 "nbformat_minor": 5
}
