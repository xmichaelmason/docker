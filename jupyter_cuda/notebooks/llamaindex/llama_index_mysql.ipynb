{
 "cells": [
  {
   "cell_type": "code",
   "execution_count": 2,
   "id": "015a9392-39e2-4dd3-871d-90a96ec62def",
   "metadata": {},
   "outputs": [
    {
     "name": "stdout",
     "output_type": "stream",
     "text": [
      "Token will not been saved to git credential helper. Pass `add_to_git_credential=True` if you want to set the git credential as well.\n",
      "Token is valid (permission: read).\n",
      "Your token has been saved to /root/.cache/huggingface/token\n",
      "Login successful\n"
     ]
    }
   ],
   "source": [
    "import torch\n",
    "from huggingface_hub import login\n",
    "from transformers import AutoTokenizer\n",
    "\n",
    "from llama_index.llms import HuggingFaceLLM\n",
    "from llama_index import SQLDatabase,ServiceContext\n",
    "from sqlalchemy import create_engine, Table, inspect, MetaData\n",
    "from llama_index.indices.struct_store.sql_query import NLSQLTableQueryEngine\n",
    "from IPython.display import Markdown, display\n",
    "\n",
    "login(\"\")\n",
    "\n",
    "hf_model=\"mistralai/Mistral-7B-Instruct-v0.2\""
   ]
  },
  {
   "cell_type": "code",
   "execution_count": 3,
   "id": "f1d6ec25-2d2f-40bc-a471-d91c4d295231",
   "metadata": {},
   "outputs": [
    {
     "data": {
      "application/vnd.jupyter.widget-view+json": {
       "model_id": "1ba57916880b45d1a4ebb21e932e3acf",
       "version_major": 2,
       "version_minor": 0
      },
      "text/plain": [
       "Loading checkpoint shards:   0%|          | 0/3 [00:00<?, ?it/s]"
      ]
     },
     "metadata": {},
     "output_type": "display_data"
    }
   ],
   "source": [
    "tokenizer = AutoTokenizer.from_pretrained(hf_model, pad=True, max_length=4096, truncation=False)\n",
    "\n",
    "locally_run = HuggingFaceLLM(\n",
    "    model_name=hf_model,\n",
    "    device_map=\"auto\",\n",
    "    max_new_tokens=1024,\n",
    "    tokenizer=tokenizer,\n",
    "    model_kwargs={\n",
    "        \"load_in_4bit\": True,\n",
    "        \"max_length\": 4096,\n",
    "        \"max_memory\": {0: \"6GiB\", \"cpu\": \"30GiB\"},\n",
    "        \"use_safetensors\": True,\n",
    "        \"pad_token_id\": 2,\n",
    "    }\n",
    ")\n",
    "\n",
    "MAX_INPUT_TOKEN_LENGTH = 512"
   ]
  },
  {
   "cell_type": "code",
   "execution_count": 4,
   "id": "478e85bb-0dc8-4b03-9aee-d32c4a4a9c66",
   "metadata": {},
   "outputs": [],
   "source": [
    "from llama_index import set_global_service_context\n",
    "engine = create_engine(\"mysql+pymysql://sa:.@192.168.1.100:3306/sakila?charset=utf8mb4\")\n",
    "\n",
    "service_context = ServiceContext.from_defaults(llm=locally_run,embed_model=\"local\")\n",
    "set_global_service_context(service_context)\n",
    "sql_database = SQLDatabase(engine)"
   ]
  },
  {
   "cell_type": "code",
   "execution_count": 5,
   "id": "62e09280",
   "metadata": {},
   "outputs": [],
   "source": [
    "query_engine = NLSQLTableQueryEngine(sql_database, service_context=service_context)"
   ]
  },
  {
   "cell_type": "code",
   "execution_count": 6,
   "id": "0f360b92",
   "metadata": {},
   "outputs": [
    {
     "name": "stderr",
     "output_type": "stream",
     "text": [
      "/usr/local/lib/python3.10/dist-packages/transformers/generation/utils.py:1295: UserWarning: You have modified the pretrained model configuration to control generation. This is a deprecated strategy to control generation and will be removed soon, in a future version. Please use and modify the model generation configuration (see https://huggingface.co/docs/transformers/generation_strategies#default-text-generation-configuration )\n",
      "  warnings.warn(\n",
      "/usr/local/lib/python3.10/dist-packages/bitsandbytes/nn/modules.py:226: UserWarning: Input type into Linear4bit is torch.float16, but bnb_4bit_compute_dtype=torch.float32 (default). This will lead to slow inference or training speed.\n",
      "  warnings.warn(f'Input type into Linear4bit is torch.float16, but bnb_4bit_compute_dtype=torch.float32 (default). This will lead to slow inference or training speed.')\n"
     ]
    }
   ],
   "source": [
    "response = query_engine.query(\"Which actors are in the film Autumn Crow?\")"
   ]
  },
  {
   "cell_type": "code",
   "execution_count": 7,
   "id": "d11e40e0",
   "metadata": {},
   "outputs": [
    {
     "data": {
      "text/markdown": [
       "\n",
       "## Answer\n",
       "```\n",
       "The actors in the film \"Autumn Crow\" are Dustin Tautou, Angela Hudson, and James Pitt.\n",
       "```\n",
       "## Generated SQL Query\n",
       "```\n",
       "SELECT a.first_name, a.last_name\n",
       "FROM actor AS a\n",
       "JOIN film_actor AS fa ON a.actor_id = fa.actor_id\n",
       "JOIN film AS f ON fa.film_id = f.film_id\n",
       "WHERE f.title = 'Autumn Crow';\n",
       "```\n"
      ],
      "text/plain": [
       "<IPython.core.display.Markdown object>"
      ]
     },
     "metadata": {},
     "output_type": "display_data"
    }
   ],
   "source": [
    "response_template = \"\"\"\n",
    "## Answer\n",
    "```\n",
    "{response}\n",
    "```\n",
    "## Generated SQL Query\n",
    "```\n",
    "{sql}\n",
    "```\n",
    "\"\"\"\n",
    "\n",
    "display(Markdown(response_template.format(\n",
    "        response=str(response),\n",
    "        sql=response.metadata[\"sql_query\"],\n",
    "    )))"
   ]
  },
  {
   "cell_type": "markdown",
   "id": "73335f3d",
   "metadata": {},
   "source": [
    "\"first_name\",\"last_name\"\n",
    "\"DUSTIN\",\"TAUTOU\"\n",
    "\"ANGELA\",\"HUDSON\"\n",
    "\"JAMES\",\"PITT\""
   ]
  },
  {
   "cell_type": "markdown",
   "id": "c387532d",
   "metadata": {},
   "source": []
  },
  {
   "cell_type": "code",
   "execution_count": 8,
   "id": "fb5f3185",
   "metadata": {},
   "outputs": [],
   "source": [
    "from llama_index.indices.struct_store import SQLTableRetrieverQueryEngine\n",
    "from llama_index.objects import (\n",
    "    SQLTableNodeMapping,\n",
    "    ObjectIndex,\n",
    "    SQLTableSchema,\n",
    ")\n",
    "from llama_index import VectorStoreIndex\n",
    "\n",
    "inspector = inspect(engine)\n",
    "table_names = inspector.get_table_names()\n",
    "\n",
    "table_node_mapping = SQLTableNodeMapping(sql_database)\n",
    "\n",
    "table_schema_objs = []\n",
    "for table_name in table_names:\n",
    "    table_schema_objs.append(SQLTableSchema(table_name=table_name))\n",
    "\n",
    "obj_index = ObjectIndex.from_objects(\n",
    "    table_schema_objs,\n",
    "    table_node_mapping,\n",
    "    VectorStoreIndex\n",
    ")"
   ]
  },
  {
   "cell_type": "code",
   "execution_count": 9,
   "id": "4b2a5f70",
   "metadata": {},
   "outputs": [],
   "source": [
    "query_engine = SQLTableRetrieverQueryEngine(\n",
    "    sql_database,\n",
    "    obj_index.as_retriever(similarity_top_k=1),\n",
    ")"
   ]
  },
  {
   "cell_type": "code",
   "execution_count": 10,
   "id": "4f198754",
   "metadata": {},
   "outputs": [
    {
     "data": {
      "text/plain": [
       "{'9d94521f-a0ed-4e70-9f43-b9c8353e9ffb': {},\n",
       " 'sql_query': \"SELECT AVG(rental_duration) as avg_rental_duration\\nFROM film\\nJOIN rental ON film.film_id = rental.film_id\\nWHERE language.language = 'English'\\nGROUP BY film.film_id;\"}"
      ]
     },
     "execution_count": 10,
     "metadata": {},
     "output_type": "execute_result"
    }
   ],
   "source": [
    "response = query_engine.query(\"What were the top 5 films rented?\")\n",
    "\n",
    "response.metadata"
   ]
  },
  {
   "cell_type": "code",
   "execution_count": 11,
   "id": "bb942de6",
   "metadata": {},
   "outputs": [
    {
     "data": {
      "text/markdown": [
       "\n",
       "## Answer\n",
       "```\n",
       "\n",
       "I'm sorry, but the provided SQL query is not valid. The query is trying to calculate the average rental duration for English films, but it's missing the necessary information to determine the top 5 films rented. To answer the original question, we would need to modify the query to include the film title or name, and sort the results by the number of rentals or total rental duration, then limit the results to the top 5. Here's an example of how the query could be modified:\n",
       "```\n",
       "SELECT f.title, AVG(r.rental_duration) as avg_rental_duration\n",
       "FROM film f\n",
       "JOIN rental r ON f.film_id = r.film_id\n",
       "JOIN language l ON f.film_id = l.film_id\n",
       "WHERE l.language = 'English'\n",
       "GROUP BY f.film_id, f.title\n",
       "ORDER BY COUNT(*) DESC\n",
       "LIMIT 5;\n",
       "```\n",
       "This query will return the title of the top 5 English films and their average rental duration.\n",
       "```\n",
       "## Generated SQL Query\n",
       "```\n",
       "SELECT AVG(rental_duration) as avg_rental_duration\n",
       "FROM film\n",
       "JOIN rental ON film.film_id = rental.film_id\n",
       "WHERE language.language = 'English'\n",
       "GROUP BY film.film_id;\n",
       "```\n"
      ],
      "text/plain": [
       "<IPython.core.display.Markdown object>"
      ]
     },
     "metadata": {},
     "output_type": "display_data"
    }
   ],
   "source": [
    "display(Markdown(response_template.format(\n",
    "        response=str(response),\n",
    "        sql=response.metadata[\"sql_query\"],\n",
    "    )))"
   ]
  },
  {
   "cell_type": "code",
   "execution_count": 12,
   "id": "6d38d5c2-cbfb-4c8d-baea-6d5600fa9038",
   "metadata": {},
   "outputs": [],
   "source": [
    "del locally_run\n",
    "torch.cuda.empty_cache()"
   ]
  },
  {
   "cell_type": "code",
   "execution_count": null,
   "id": "906f4cc7",
   "metadata": {},
   "outputs": [],
   "source": []
  }
 ],
 "metadata": {
  "kernelspec": {
   "display_name": "cuda-gpt",
   "language": "python",
   "name": "cuda"
  },
  "language_info": {
   "codemirror_mode": {
    "name": "ipython",
    "version": 3
   },
   "file_extension": ".py",
   "mimetype": "text/x-python",
   "name": "python",
   "nbconvert_exporter": "python",
   "pygments_lexer": "ipython3",
   "version": "3.10.12"
  }
 },
 "nbformat": 4,
 "nbformat_minor": 5
}
