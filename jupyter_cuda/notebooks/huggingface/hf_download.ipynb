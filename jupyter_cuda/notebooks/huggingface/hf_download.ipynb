{
 "cells": [
  {
   "cell_type": "code",
   "execution_count": null,
   "id": "546dcddf-b705-4d50-8412-1d1a785f1d48",
   "metadata": {},
   "outputs": [],
   "source": [
    "from huggingface_hub import hf_hub_download, snapshot_download"
   ]
  },
  {
   "cell_type": "markdown",
   "id": "db515dac-e2da-4fd6-bec4-a594fa663fea",
   "metadata": {},
   "source": [
    "### From latest version"
   ]
  },
  {
   "cell_type": "code",
   "execution_count": null,
   "id": "7ccb5e90-b6a2-43e2-ab83-9b2347a5061e",
   "metadata": {},
   "outputs": [],
   "source": [
    "hf_hub_download(repo_id=\"lysandre/arxiv-nlp\", filename=\"config.json\")"
   ]
  },
  {
   "cell_type": "code",
   "execution_count": null,
   "id": "34f17e76-507c-42c8-bcde-db882ebf71a2",
   "metadata": {},
   "outputs": [],
   "source": [
    "hf_hub_download(repo_id=\"google/fleurs\", filename=\"fleurs.py\", repo_type=\"dataset\")"
   ]
  },
  {
   "cell_type": "markdown",
   "id": "d3e71eec-e4e3-4bd5-bc13-0cc5dea668f4",
   "metadata": {},
   "source": [
    "### From specific version\n",
    "By default, the latest version from the main branch is downloaded. However, in some cases you want to download a file at a particular version (e.g. from a specific branch, a PR, a tag or a commit hash). To do so, use the revision parameter\n",
    "\n",
    "examples do not exist anymore."
   ]
  },
  {
   "cell_type": "code",
   "execution_count": 5,
   "id": "700c73f3-5e8d-4fb5-8403-05263ca422b2",
   "metadata": {},
   "outputs": [],
   "source": [
    "# Download from the `v1.0` tag\n",
    "hf_hub_download(repo_id=\"lysandre/arxiv-nlp\", filename=\"config.json\", revision=\"v1.0\")"
   ]
  },
  {
   "cell_type": "code",
   "execution_count": null,
   "id": "87b822ed-71a5-4920-8a63-3a0a8c25a568",
   "metadata": {},
   "outputs": [],
   "source": [
    "# Download from the `test-branch` branch\n",
    "hf_hub_download(repo_id=\"lysandre/arxiv-nlp\", filename=\"config.json\", revision=\"test-branch\")"
   ]
  },
  {
   "cell_type": "code",
   "execution_count": null,
   "id": "511cc4ed-f9bd-4bcc-9467-df308f64ab2f",
   "metadata": {},
   "outputs": [],
   "source": [
    "# Download from Pull Request #3\n",
    "hf_hub_download(repo_id=\"lysandre/arxiv-nlp\", filename=\"config.json\", revision=\"refs/pr/3\")"
   ]
  },
  {
   "cell_type": "code",
   "execution_count": null,
   "id": "7b333b4b-ba0d-44f0-bd0a-7505a9cda9d2",
   "metadata": {},
   "outputs": [],
   "source": [
    "# Download from a specific commit hash\n",
    "# Note: When using the commit hash, it must be the full-length hash instead of a 7-character commit hash.\n",
    "hf_hub_download(repo_id=\"lysandre/arxiv-nlp\", filename=\"config.json\", revision=\"877b84a8f93f2d619faa2a6e514a32beef88ab0a\")"
   ]
  },
  {
   "cell_type": "markdown",
   "id": "e146433a-9c36-4fc4-9482-10abb788d595",
   "metadata": {},
   "source": [
    "### Construct a url\n",
    "In case you want to construct the URL used to download a file from a repo, you can use hf_hub_url() which returns a URL. Note that it is used internally by hf_hub_download().\n",
    "\n",
    "### Download entire repository\n",
    "snapshot_download() downloads an entire repository at a given revision. It uses internally hf_hub_download() which means all downloaded files are also cached on your local disk. Downloads are made concurrently to speed-up the process.\n",
    "\n",
    "To download a whole repository, just pass the repo_id and repo_type"
   ]
  },
  {
   "cell_type": "code",
   "execution_count": null,
   "id": "38195f3d-23b4-4ac6-a40e-99407bf8dbd8",
   "metadata": {},
   "outputs": [],
   "source": [
    "snapshot_download(repo_id=\"lysandre/arxiv-nlp\")"
   ]
  },
  {
   "cell_type": "code",
   "execution_count": 2,
   "id": "7ba5ec76-c0fd-45d2-b86a-71cccb49a307",
   "metadata": {},
   "outputs": [],
   "source": [
    "# Or from a dataset\n",
    "snapshot_download(repo_id=\"google/fleurs\", repo_type=\"dataset\")"
   ]
  },
  {
   "cell_type": "markdown",
   "id": "48ace144-229e-41d3-8f3a-5107f02c1b81",
   "metadata": {},
   "source": [
    "snapshot_download() downloads the latest revision by default. If you want a specific repository revision, use the revision parameter"
   ]
  },
  {
   "cell_type": "code",
   "execution_count": null,
   "id": "cd81a326-dc5a-4077-ac10-9dd4b865ebd0",
   "metadata": {},
   "outputs": [],
   "source": [
    "snapshot_download(repo_id=\"lysandre/arxiv-nlp\", revision=\"refs/pr/1\")"
   ]
  },
  {
   "cell_type": "markdown",
   "id": "94bda42b-1548-4f71-9fa9-6a520eae6f10",
   "metadata": {},
   "source": [
    "### Filter files to download\n",
    "snapshot_download() provides an easy way to download a repository. However, you don’t always want to download the entire content of a repository. For example, you might want to prevent downloading all .bin files if you know you’ll only use the .safetensors weights. You can do that using allow_patterns and ignore_patterns parameters.\n",
    "\n",
    "https://tldp.org/LDP/GNU-Linux-Tools-Summary/html/x11655.htm"
   ]
  },
  {
   "cell_type": "code",
   "execution_count": 1,
   "id": "f7e40382-5e5b-4a6f-ae56-54f3445b9c4a",
   "metadata": {},
   "outputs": [],
   "source": [
    "# use allow_patterns to only download JSON configuration files:\n",
    "snapshot_download(repo_id=\"lysandre/arxiv-nlp\", allow_patterns=\"*.json\")"
   ]
  },
  {
   "cell_type": "code",
   "execution_count": null,
   "id": "69c8db54-f47d-4877-82a9-2a1c8e942718",
   "metadata": {},
   "outputs": [],
   "source": [
    "# ignore_patterns can exclude certain files from being downloaded.\n",
    "snapshot_download(repo_id=\"lysandre/arxiv-nlp\", ignore_patterns=[\"*.msgpack\", \"*.h5\"])"
   ]
  },
  {
   "cell_type": "code",
   "execution_count": null,
   "id": "a5997c8d-e8f1-4788-8ecb-020a106766c1",
   "metadata": {},
   "outputs": [],
   "source": [
    "# download all json and markdown files except vocab.json\n",
    "snapshot_download(repo_id=\"gpt2\", allow_patterns=[\"*.md\", \"*.json\"], ignore_patterns=\"vocab.json\")"
   ]
  },
  {
   "cell_type": "markdown",
   "id": "f033a143-e8ed-4981-a946-ddbb977b6ce0",
   "metadata": {},
   "source": [
    "### Download to local folder\n",
    "You can define your cache location by setting cache_dir parameter (both in hf_hub_download() and snapshot_download()).\n",
    "\n",
    "in some cases you want to download files and move them to a specific folder. You can do that using the local_dir and local_dir_use_symlinks parameters\n",
    "\n",
    "- local_dir must be a path to a folder on your system. The downloaded files will keep the same file structure as in the repo. For example if filename=\"data/train.csv\" and local_dir=\"path/to/folder\", then the returned filepath will be \"path/to/folder/data/train.csv\".\n",
    "- local_dir_use_symlinks defines how the file must be saved in your local folder.\n",
    "  - The default behavior (\"auto\") is to duplicate small files (<5MB) and use symlinks for bigger files. Symlinks allow to optimize both bandwidth and disk usage. However manually editing a symlinked file might corrupt the cache, hence the duplication for small files. The 5MB threshold can be configured with the HF_HUB_LOCAL_DIR_AUTO_SYMLINK_THRESHOLD environment variable.\n",
    "  - If local_dir_use_symlinks=True is set, all files are symlinked for an optimal disk space optimization. This is for example useful when downloading a huge dataset with thousands of small files.\n",
    "  - Finally, if you don’t want symlinks at all you can disable them (local_dir_use_symlinks=False). The cache directory will still be used to check wether the file is already cached or not. If already cached, the file is duplicated from the cache (i.e. saves bandwidth but increases disk usage). If the file is not already cached, it will be downloaded and moved directly to the local dir. This means that if you need to reuse it somewhere else later, it will be re-downloaded.\n",
    " \n",
    "| Parameters                 | File already cached  | Returned path   | Can read path?    | Can save to path?                      | Optimized bandwidth             | Optimized disk usage          |\n",
    "|----------------------------|----------------------|-----------------|-------------------|---------------------------------------|--------------------------------|-------------------------------|\n",
    "| local_dir=None             | symlink in cache     | ✅              | ❌                | (save would corrupt the cache)        | ✅                             | ✅                            |\n",
    "| local_dir=\"path/to/folder\" |                      |                 |                   |                                       |                                |                               |\n",
    "| local_dir_use_symlinks=\"auto\" | file or symlink in folder | ✅         | ✅                | ⚠️ (for big files do not resolve path before saving) | ✅                         | ✅                           |\n",
    "| local_dir=\"path/to/folder\" |                      |                 |                   |                                       |                                |                               |\n",
    "| local_dir_use_symlinks=True | symlink in folder    | ✅              | ⚠️               | (do not resolve path before saving)   | ✅                             | ✅                           |\n",
    "| local_dir=\"path/to/folder\" |                      |                 |                   |                                       |                                |                               |\n",
    "| local_dir_use_symlinks=False | No                   | file in folder  | ✅                | ✅                                    | ❌ (if re-run, file is re-downloaded) | ⚠️ (multiple copies if ran in multiple folders) |\n",
    "| local_dir=\"path/to/folder\" |                      |                 |                   |                                       |                                |                               |\n",
    "| local_dir_use_symlinks=False | Yes                  | file in folder  | ✅                | ✅                                    | ⚠️ (file has to be cached first) | ❌ (file is duplicated)        |\n"
   ]
  },
  {
   "cell_type": "code",
   "execution_count": null,
   "id": "b30a263a-ca68-480d-8a77-b1c35bcd271d",
   "metadata": {},
   "outputs": [],
   "source": []
  }
 ],
 "metadata": {
  "kernelspec": {
   "display_name": "Python 3 (ipykernel)",
   "language": "python",
   "name": "python3"
  },
  "language_info": {
   "codemirror_mode": {
    "name": "ipython",
    "version": 3
   },
   "file_extension": ".py",
   "mimetype": "text/x-python",
   "name": "python",
   "nbconvert_exporter": "python",
   "pygments_lexer": "ipython3",
   "version": "3.10.12"
  }
 },
 "nbformat": 4,
 "nbformat_minor": 5
}
