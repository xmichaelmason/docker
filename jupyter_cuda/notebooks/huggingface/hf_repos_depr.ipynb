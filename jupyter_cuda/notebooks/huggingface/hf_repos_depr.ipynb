{
 "cells": [
  {
   "cell_type": "markdown",
   "id": "49de171c-b381-4dc7-b5fe-80e23f4e5ffd",
   "metadata": {},
   "source": [
    "### Create Repo"
   ]
  },
  {
   "cell_type": "code",
   "execution_count": 38,
   "id": "cb5c6cb2-8508-44f9-ad27-2290a047fddb",
   "metadata": {},
   "outputs": [
    {
     "name": "stdout",
     "output_type": "stream",
     "text": [
      "Defaulting to user installation because normal site-packages is not writeable\n",
      "Requirement already satisfied: huggingface_hub in /home/mason/.local/lib/python3.10/site-packages (0.20.3)\n",
      "Requirement already satisfied: fsspec>=2023.5.0 in /home/mason/.local/lib/python3.10/site-packages (from huggingface_hub) (2023.12.2)\n",
      "Requirement already satisfied: tqdm>=4.42.1 in /home/mason/.local/lib/python3.10/site-packages (from huggingface_hub) (4.66.1)\n",
      "Requirement already satisfied: pyyaml>=5.1 in /usr/lib/python3/dist-packages (from huggingface_hub) (5.4.1)\n",
      "Requirement already satisfied: packaging>=20.9 in /home/mason/.local/lib/python3.10/site-packages (from huggingface_hub) (23.2)\n",
      "Requirement already satisfied: filelock in /home/mason/.local/lib/python3.10/site-packages (from huggingface_hub) (3.13.1)\n",
      "Requirement already satisfied: typing-extensions>=3.7.4.3 in /home/mason/.local/lib/python3.10/site-packages (from huggingface_hub) (4.9.0)\n",
      "Requirement already satisfied: requests in /home/mason/.local/lib/python3.10/site-packages (from huggingface_hub) (2.31.0)\n",
      "Requirement already satisfied: idna<4,>=2.5 in /usr/lib/python3/dist-packages (from requests->huggingface_hub) (3.3)\n",
      "Requirement already satisfied: charset-normalizer<4,>=2 in /home/mason/.local/lib/python3.10/site-packages (from requests->huggingface_hub) (3.3.2)\n",
      "Requirement already satisfied: urllib3<3,>=1.21.1 in /usr/lib/python3/dist-packages (from requests->huggingface_hub) (1.26.5)\n",
      "Requirement already satisfied: certifi>=2017.4.17 in /usr/lib/python3/dist-packages (from requests->huggingface_hub) (2020.6.20)\n"
     ]
    }
   ],
   "source": [
    "!pip install huggingface_hub\n",
    "from huggingface_hub import (\n",
    "    create_repo,\n",
    "    delete_repo,\n",
    "    update_repo_visibility,\n",
    "    create_branch,\n",
    "    create_tag,\n",
    "    list_repo_refs,\n",
    "    Repository\n",
    ")\n",
    "\n",
    "HF_TOKEN = \"\""
   ]
  },
  {
   "cell_type": "markdown",
   "id": "ccf7504d-abbe-48b6-8ae1-9cd3a2888143",
   "metadata": {},
   "source": [
    "Create an empty repository with create_repo() and give it a name with the repo_id parameter. The repo_id is your namespace followed by the repository name: username_or_org/repo_name."
   ]
  },
  {
   "cell_type": "code",
   "execution_count": 3,
   "id": "66883456-842f-4980-a639-0f0abde3b19f",
   "metadata": {},
   "outputs": [
    {
     "data": {
      "text/plain": [
       "RepoUrl('https://huggingface.co/mylesdyson/test-model', endpoint='https://huggingface.co', repo_type='model', repo_id='mylesdyson/test-model')"
      ]
     },
     "execution_count": 3,
     "metadata": {},
     "output_type": "execute_result"
    }
   ],
   "source": [
    "create_repo(\"mylesdyson/test-model\", token=HF_TOKEN)"
   ]
  },
  {
   "cell_type": "markdown",
   "id": "145e3d3a-beb6-42ac-ac54-68cc5b0b8aa1",
   "metadata": {},
   "source": [
    "### Delete Repo\n",
    "\n",
    "Note: include the repo type for anything other than model!"
   ]
  },
  {
   "cell_type": "code",
   "execution_count": 15,
   "id": "2dbc3b42-2c61-4e2e-9c70-003e2f77f72a",
   "metadata": {},
   "outputs": [],
   "source": [
    "delete_repo(\"mylesdyson/test-model\", token=HF_TOKEN)"
   ]
  },
  {
   "cell_type": "markdown",
   "id": "0da0bd5f-c674-4577-9f77-9aa7891e0ec3",
   "metadata": {},
   "source": [
    "### Notes\n",
    "\n",
    "By default, create_repo() creates a model repository. But you can use the repo_type parameter to specify another repository type. For example, if you want to create a dataset repository:"
   ]
  },
  {
   "cell_type": "code",
   "execution_count": null,
   "id": "e37ea6bc-a9a8-430a-bf73-84d4cd8f7b04",
   "metadata": {},
   "outputs": [],
   "source": [
    "create_repo(\"myles-dyson/test-dataset\", repo_type=\"dataset\")"
   ]
  },
  {
   "cell_type": "markdown",
   "id": "9d30c496-9c8f-42c0-b763-7f2d562b49f5",
   "metadata": {},
   "source": [
    "When you create a repository, you can set your repository visibility with the private parameter."
   ]
  },
  {
   "cell_type": "code",
   "execution_count": 17,
   "id": "0b96cc36-8e56-4970-8a73-a041ab891d3d",
   "metadata": {},
   "outputs": [
    {
     "data": {
      "text/plain": [
       "RepoUrl('https://huggingface.co/mylesdyson/test-private', endpoint='https://huggingface.co', repo_type='model', repo_id='mylesdyson/test-private')"
      ]
     },
     "execution_count": 17,
     "metadata": {},
     "output_type": "execute_result"
    }
   ],
   "source": [
    "create_repo(\"mylesdyson/test-private\", private=True, token=HF_TOKEN)"
   ]
  },
  {
   "cell_type": "markdown",
   "id": "3655fb56-2d22-44f6-8453-6da8792fb4d0",
   "metadata": {},
   "source": [
    "If you want to change the repository visibility at a later time, you can use the update_repo_visibility() function."
   ]
  },
  {
   "cell_type": "code",
   "execution_count": 21,
   "id": "d793b3f3-7a5e-4fd8-a12e-c096169a692c",
   "metadata": {},
   "outputs": [
    {
     "data": {
      "text/plain": [
       "{'private': False}"
      ]
     },
     "execution_count": 21,
     "metadata": {},
     "output_type": "execute_result"
    }
   ],
   "source": [
    "update_repo_visibility(\"mylesdyson/test-private\", private=False, token=HF_TOKEN)"
   ]
  },
  {
   "cell_type": "markdown",
   "id": "ffe9280b-3067-41e5-b9fd-63d50ca57fde",
   "metadata": {},
   "source": [
    "### Branches and Tags\n",
    "\n",
    "Git repositories often make use of branches to store different versions of a same repository. Tags can also be used to flag a specific state of your repository, for example, when releasing a version."
   ]
  },
  {
   "cell_type": "code",
   "execution_count": 27,
   "id": "cceebd47-db1b-48cc-b4f8-9f6f3af31639",
   "metadata": {},
   "outputs": [
    {
     "data": {
      "text/plain": [
       "RepoUrl('https://huggingface.co/datasets/mylesdyson/speecht5-tts-demo', endpoint='https://huggingface.co', repo_type='dataset', repo_id='mylesdyson/speecht5-tts-demo')"
      ]
     },
     "execution_count": 27,
     "metadata": {},
     "output_type": "execute_result"
    }
   ],
   "source": [
    "create_repo(\"mylesdyson/speecht5-tts-demo\", repo_type=\"dataset\", token=HF_TOKEN)\n",
    "create_branch(\"mylesdyson/speecht5-tts-demo\", repo_type=\"dataset\", branch=\"handle-dog-speaker\", token=HF_TOKEN)"
   ]
  },
  {
   "cell_type": "code",
   "execution_count": 26,
   "id": "2c310eea-2790-45d9-a9f4-6a1b79d87cd2",
   "metadata": {},
   "outputs": [],
   "source": [
    "delete_repo(\"mylesdyson/speecht5-tts-demo\", repo_type=\"dataset\", token=HF_TOKEN)"
   ]
  },
  {
   "cell_type": "code",
   "execution_count": 37,
   "id": "da11744f-ed89-4006-8e5a-2a3bd5f7b978",
   "metadata": {},
   "outputs": [
    {
     "ename": "HfHubHTTPError",
     "evalue": "500 Server Error: Internal Server Error for url: https://huggingface.co/api/datasets/mylesdyson/speecht5-tts-demo/branch/handle-dog-speaker (Request ID: Root=1-65be85c9-0d03274349875a6c77e93bae;cd4ea499-2bd4-4996-b9ee-ac056672b25d)\n\nInternal Error - We're working hard to fix this as soon as possible!",
     "output_type": "error",
     "traceback": [
      "\u001b[0;31m---------------------------------------------------------------------------\u001b[0m",
      "\u001b[0;31mHTTPError\u001b[0m                                 Traceback (most recent call last)",
      "File \u001b[0;32m~/.local/lib/python3.10/site-packages/huggingface_hub/utils/_errors.py:286\u001b[0m, in \u001b[0;36mhf_raise_for_status\u001b[0;34m(response, endpoint_name)\u001b[0m\n\u001b[1;32m    285\u001b[0m \u001b[38;5;28;01mtry\u001b[39;00m:\n\u001b[0;32m--> 286\u001b[0m     \u001b[43mresponse\u001b[49m\u001b[38;5;241;43m.\u001b[39;49m\u001b[43mraise_for_status\u001b[49m\u001b[43m(\u001b[49m\u001b[43m)\u001b[49m\n\u001b[1;32m    287\u001b[0m \u001b[38;5;28;01mexcept\u001b[39;00m HTTPError \u001b[38;5;28;01mas\u001b[39;00m e:\n",
      "File \u001b[0;32m~/.local/lib/python3.10/site-packages/requests/models.py:1021\u001b[0m, in \u001b[0;36mResponse.raise_for_status\u001b[0;34m(self)\u001b[0m\n\u001b[1;32m   1020\u001b[0m \u001b[38;5;28;01mif\u001b[39;00m http_error_msg:\n\u001b[0;32m-> 1021\u001b[0m     \u001b[38;5;28;01mraise\u001b[39;00m HTTPError(http_error_msg, response\u001b[38;5;241m=\u001b[39m\u001b[38;5;28mself\u001b[39m)\n",
      "\u001b[0;31mHTTPError\u001b[0m: 500 Server Error: Internal Server Error for url: https://huggingface.co/api/datasets/mylesdyson/speecht5-tts-demo/branch/handle-dog-speaker",
      "\nThe above exception was the direct cause of the following exception:\n",
      "\u001b[0;31mHfHubHTTPError\u001b[0m                            Traceback (most recent call last)",
      "Cell \u001b[0;32mIn[37], line 1\u001b[0m\n\u001b[0;32m----> 1\u001b[0m \u001b[43mcreate_branch\u001b[49m\u001b[43m(\u001b[49m\u001b[38;5;124;43m\"\u001b[39;49m\u001b[38;5;124;43mmylesdyson/speecht5-tts-demo\u001b[39;49m\u001b[38;5;124;43m\"\u001b[39;49m\u001b[43m,\u001b[49m\u001b[43m \u001b[49m\u001b[43mrepo_type\u001b[49m\u001b[38;5;241;43m=\u001b[39;49m\u001b[38;5;124;43m\"\u001b[39;49m\u001b[38;5;124;43mdataset\u001b[39;49m\u001b[38;5;124;43m\"\u001b[39;49m\u001b[43m,\u001b[49m\u001b[43m \u001b[49m\u001b[43mrevision\u001b[49m\u001b[38;5;241;43m=\u001b[39;49m\u001b[38;5;124;43m\"\u001b[39;49m\u001b[38;5;124;43mv0.1-release\u001b[39;49m\u001b[38;5;124;43m\"\u001b[39;49m\u001b[43m,\u001b[49m\u001b[43m \u001b[49m\u001b[43mbranch\u001b[49m\u001b[38;5;241;43m=\u001b[39;49m\u001b[38;5;124;43m\"\u001b[39;49m\u001b[38;5;124;43mhandle-dog-speaker\u001b[39;49m\u001b[38;5;124;43m\"\u001b[39;49m\u001b[43m,\u001b[49m\u001b[43m \u001b[49m\u001b[43mtoken\u001b[49m\u001b[38;5;241;43m=\u001b[39;49m\u001b[43mHF_TOKEN\u001b[49m\u001b[43m)\u001b[49m\n",
      "File \u001b[0;32m~/.local/lib/python3.10/site-packages/huggingface_hub/utils/_validators.py:118\u001b[0m, in \u001b[0;36mvalidate_hf_hub_args.<locals>._inner_fn\u001b[0;34m(*args, **kwargs)\u001b[0m\n\u001b[1;32m    115\u001b[0m \u001b[38;5;28;01mif\u001b[39;00m check_use_auth_token:\n\u001b[1;32m    116\u001b[0m     kwargs \u001b[38;5;241m=\u001b[39m smoothly_deprecate_use_auth_token(fn_name\u001b[38;5;241m=\u001b[39mfn\u001b[38;5;241m.\u001b[39m\u001b[38;5;18m__name__\u001b[39m, has_token\u001b[38;5;241m=\u001b[39mhas_token, kwargs\u001b[38;5;241m=\u001b[39mkwargs)\n\u001b[0;32m--> 118\u001b[0m \u001b[38;5;28;01mreturn\u001b[39;00m \u001b[43mfn\u001b[49m\u001b[43m(\u001b[49m\u001b[38;5;241;43m*\u001b[39;49m\u001b[43margs\u001b[49m\u001b[43m,\u001b[49m\u001b[43m \u001b[49m\u001b[38;5;241;43m*\u001b[39;49m\u001b[38;5;241;43m*\u001b[39;49m\u001b[43mkwargs\u001b[49m\u001b[43m)\u001b[49m\n",
      "File \u001b[0;32m~/.local/lib/python3.10/site-packages/huggingface_hub/hf_api.py:5416\u001b[0m, in \u001b[0;36mHfApi.create_branch\u001b[0;34m(self, repo_id, branch, revision, token, repo_type, exist_ok)\u001b[0m\n\u001b[1;32m   5414\u001b[0m response \u001b[38;5;241m=\u001b[39m get_session()\u001b[38;5;241m.\u001b[39mpost(url\u001b[38;5;241m=\u001b[39mbranch_url, headers\u001b[38;5;241m=\u001b[39mheaders, json\u001b[38;5;241m=\u001b[39mpayload)\n\u001b[1;32m   5415\u001b[0m \u001b[38;5;28;01mtry\u001b[39;00m:\n\u001b[0;32m-> 5416\u001b[0m     \u001b[43mhf_raise_for_status\u001b[49m\u001b[43m(\u001b[49m\u001b[43mresponse\u001b[49m\u001b[43m)\u001b[49m\n\u001b[1;32m   5417\u001b[0m \u001b[38;5;28;01mexcept\u001b[39;00m HfHubHTTPError \u001b[38;5;28;01mas\u001b[39;00m e:\n\u001b[1;32m   5418\u001b[0m     \u001b[38;5;28;01mif\u001b[39;00m \u001b[38;5;129;01mnot\u001b[39;00m (e\u001b[38;5;241m.\u001b[39mresponse\u001b[38;5;241m.\u001b[39mstatus_code \u001b[38;5;241m==\u001b[39m \u001b[38;5;241m409\u001b[39m \u001b[38;5;129;01mand\u001b[39;00m exist_ok):\n",
      "File \u001b[0;32m~/.local/lib/python3.10/site-packages/huggingface_hub/utils/_errors.py:333\u001b[0m, in \u001b[0;36mhf_raise_for_status\u001b[0;34m(response, endpoint_name)\u001b[0m\n\u001b[1;32m    329\u001b[0m     \u001b[38;5;28;01mraise\u001b[39;00m BadRequestError(message, response\u001b[38;5;241m=\u001b[39mresponse) \u001b[38;5;28;01mfrom\u001b[39;00m \u001b[38;5;21;01me\u001b[39;00m\n\u001b[1;32m    331\u001b[0m \u001b[38;5;66;03m# Convert `HTTPError` into a `HfHubHTTPError` to display request information\u001b[39;00m\n\u001b[1;32m    332\u001b[0m \u001b[38;5;66;03m# as well (request id and/or server error message)\u001b[39;00m\n\u001b[0;32m--> 333\u001b[0m \u001b[38;5;28;01mraise\u001b[39;00m HfHubHTTPError(\u001b[38;5;28mstr\u001b[39m(e), response\u001b[38;5;241m=\u001b[39mresponse) \u001b[38;5;28;01mfrom\u001b[39;00m \u001b[38;5;21;01me\u001b[39;00m\n",
      "\u001b[0;31mHfHubHTTPError\u001b[0m: 500 Server Error: Internal Server Error for url: https://huggingface.co/api/datasets/mylesdyson/speecht5-tts-demo/branch/handle-dog-speaker (Request ID: Root=1-65be85c9-0d03274349875a6c77e93bae;cd4ea499-2bd4-4996-b9ee-ac056672b25d)\n\nInternal Error - We're working hard to fix this as soon as possible!"
     ]
    }
   ],
   "source": [
    "create_branch(\"mylesdyson/speecht5-tts-demo\", repo_type=\"dataset\", revision=\"v0.1-release\", branch=\"handle-dog-speaker\", token=HF_TOKEN)"
   ]
  },
  {
   "cell_type": "markdown",
   "id": "6e69db32-b1a1-454c-85d1-e0d6569b45ec",
   "metadata": {},
   "source": [
    "### List ann branches and tags"
   ]
  },
  {
   "cell_type": "code",
   "execution_count": 36,
   "id": "c7d0b9f6-7f2f-47e2-af37-bdf0f4de4fda",
   "metadata": {},
   "outputs": [
    {
     "data": {
      "text/plain": [
       "GitRefs(branches=[GitRefInfo(name='main', ref='refs/heads/main', target_commit='62275377bdfe6c6a3d6387e1e1257c7939ce26f1')], converts=[], tags=[], pull_requests=None)"
      ]
     },
     "execution_count": 36,
     "metadata": {},
     "output_type": "execute_result"
    }
   ],
   "source": [
    "list_repo_refs(\"mylesdyson/speecht5-tts-demo\", repo_type=\"dataset\")"
   ]
  },
  {
   "cell_type": "code",
   "execution_count": null,
   "id": "77218c10-0ee3-4b1b-85a3-1f9b8177c2ac",
   "metadata": {},
   "outputs": [],
   "source": []
  }
 ],
 "metadata": {
  "kernelspec": {
   "display_name": "cuda-gpt",
   "language": "python",
   "name": "cuda"
  },
  "language_info": {
   "codemirror_mode": {
    "name": "ipython",
    "version": 3
   },
   "file_extension": ".py",
   "mimetype": "text/x-python",
   "name": "python",
   "nbconvert_exporter": "python",
   "pygments_lexer": "ipython3",
   "version": "3.10.12"
  }
 },
 "nbformat": 4,
 "nbformat_minor": 5
}
