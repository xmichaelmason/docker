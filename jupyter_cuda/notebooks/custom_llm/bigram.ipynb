{
 "cells": [
  {
   "cell_type": "code",
   "execution_count": 1,
   "id": "1919df79-f554-4d8b-84f4-52dc7a9d9d38",
   "metadata": {},
   "outputs": [
    {
     "name": "stdout",
     "output_type": "stream",
     "text": [
      "cuda\n"
     ]
    }
   ],
   "source": [
    "import torch\n",
    "import torch.nn as nn\n",
    "from torch.nn import functional as F\n",
    "device = 'cuda' if torch.cuda.is_available() else 'cpu'\n",
    "print(device)\n",
    "block_size = 8\n",
    "batch_size = 4\n",
    "max_iters = 1000\n",
    "# eval_interval = 2500\n",
    "learning_rate = 3e-4\n",
    "eval_iters = 250"
   ]
  },
  {
   "cell_type": "code",
   "execution_count": 2,
   "id": "c9484a25-170e-47d1-8b37-f5eadc9bb2d8",
   "metadata": {},
   "outputs": [
    {
     "name": "stdout",
     "output_type": "stream",
     "text": [
      "['\\n', ' ', '!', '(', ')', '*', ',', '-', '.', '0', '1', '2', '3', '4', '5', '6', '7', '8', '9', ':', ';', '?', 'A', 'B', 'C', 'D', 'E', 'F', 'G', 'H', 'I', 'J', 'K', 'L', 'M', 'N', 'O', 'P', 'Q', 'R', 'S', 'T', 'U', 'V', 'W', 'Y', 'Z', 'a', 'b', 'c', 'd', 'e', 'f', 'g', 'h', 'i', 'j', 'k', 'l', 'm', 'n', 'o', 'p', 'q', 'r', 's', 't', 'u', 'v', 'w', 'x', 'y', 'z', '’', '\\ufeff']\n"
     ]
    }
   ],
   "source": [
    "with open('../../training/kjbible.txt', 'r', encoding='utf-8') as f:\n",
    "    text = f.read()\n",
    "\n",
    "chars = sorted(set(text))\n",
    "print(chars)\n",
    "vocab_size = len(chars)"
   ]
  },
  {
   "cell_type": "code",
   "execution_count": 3,
   "id": "dc8b4938-d239-4a02-abfe-e9d452fd7c5c",
   "metadata": {},
   "outputs": [],
   "source": [
    "string_to_int = { ch:i for i,ch in enumerate(chars) }\n",
    "int_to_string = { i:ch for i,ch in enumerate(chars) }\n",
    "encode = lambda s: [string_to_int[c] for c in s]\n",
    "decode = lambda l: ''.join([int_to_string[i] for i in l])\n",
    "\n",
    "data = torch.tensor(encode(text), dtype=torch.long)\n",
    "# print(data[:100])\n"
   ]
  },
  {
   "cell_type": "code",
   "execution_count": 4,
   "id": "0c371b4f-6789-4682-ba24-992f5e77179e",
   "metadata": {},
   "outputs": [
    {
     "name": "stdout",
     "output_type": "stream",
     "text": [
      "inputs:\n",
      "tensor([[ 1, 66, 54, 51,  1, 69, 47, 58],\n",
      "        [58, 65,  1, 61, 52,  1, 53, 61],\n",
      "        [67, 66,  0, 61, 52,  1, 66, 54],\n",
      "        [66, 61,  1, 26, 58, 51, 47, 72]], device='cuda:0')\n",
      "targets:\n",
      "tensor([[66, 54, 51,  1, 69, 47, 58, 58],\n",
      "        [65,  1, 61, 52,  1, 53, 61, 58],\n",
      "        [66,  0, 61, 52,  1, 66, 54, 71],\n",
      "        [61,  1, 26, 58, 51, 47, 72, 47]], device='cuda:0')\n"
     ]
    }
   ],
   "source": [
    "n = int(0.8*len(data))\n",
    "train_data = data[:n]\n",
    "val_data = data[n:]\n",
    "\n",
    "def get_batch(split):\n",
    "    data = train_data if split == 'train' else val_data\n",
    "    ix = torch.randint(len(data) - block_size, (batch_size,))\n",
    "    x = torch.stack([data[i:i+block_size] for i in ix])\n",
    "    y = torch.stack([data[i+1:i+block_size+1] for i in ix])\n",
    "    x, y = x.to(device), y.to(device)\n",
    "    return x, y\n",
    "\n",
    "x, y = get_batch('train')\n",
    "print('inputs:')\n",
    "# print(x.shape)\n",
    "print(x)\n",
    "print('targets:')\n",
    "print(y)"
   ]
  },
  {
   "cell_type": "code",
   "execution_count": 5,
   "id": "b32b066b",
   "metadata": {},
   "outputs": [],
   "source": [
    "@torch.no_grad()\n",
    "def estimate_loss():\n",
    "    out = {}\n",
    "    model.eval()\n",
    "    for split in ['train', 'val']:\n",
    "        losses = torch.zeros(eval_iters)\n",
    "        for k in range(eval_iters):\n",
    "            X, Y = get_batch(split)\n",
    "            logits, loss = model(X, Y)\n",
    "            losses[k] = loss.item()\n",
    "        out[split] = losses.mean()\n",
    "    model.train()\n",
    "    return out"
   ]
  },
  {
   "cell_type": "code",
   "execution_count": 6,
   "id": "5af492ab-1775-43ab-8713-77a3c65d7194",
   "metadata": {},
   "outputs": [
    {
     "name": "stdout",
     "output_type": "stream",
     "text": [
      "\n",
      "lLd.’Dzp.qq2AP99eiPWWl)’Pp)8c::o:’y0-xy5yu-Ifn.S ;WCjLqr’5\n",
      "y3CdF-9v72-e’y88yl TJ(FPAf8yNqLJ?ih0rV6’-9);Fxyi 6Ydp1DTqKlxpL?lW﻿YRjy1;6U’Yd!,.8dB(NM(zSvRj:OpYqcja﻿vcAEo:bi6!\n",
      "l2VVMtNF9SNei u,sK.’yH5;-n.RPE4voQpLYd!r:bD*qtkNFP5kJfzhjleqv1dE4fViPIxWAr8B6kzR;75jPKTKU2CgIs2f-oB!:1JiYd7.IjK’Fx8’DzE4:8Bwbw﻿’08r.NolmiO!4waQNrCcbI*5RWYMoBI8n!KF-xv7)kM;?BFeRL6p67.RiqRzwNyI-J(Afb(ZHid7.U9BQ7.E:vZZB5kDuZ7E!YD9.F0ZoDzcDpl5jfVVVRD;SrUnNFzUQtS*sf8﻿SolF’-RQbHyNvZWCcIMj\n",
      "gJVVbTcw’VQvIJ﻿NS2amcw \n",
      ".0NYiOxckvgMJiORwbWEf\n"
     ]
    }
   ],
   "source": [
    "\n",
    "\n",
    "class BigramLanguageModel(nn.Module):\n",
    "    def __init__(self, vocab_size):\n",
    "        super().__init__()\n",
    "        self.token_embedding_table = nn.Embedding(vocab_size, vocab_size)\n",
    "        \n",
    "    def forward(self, index, targets=None):\n",
    "        logits = self.token_embedding_table(index)\n",
    "        \n",
    "        \n",
    "        if targets is None:\n",
    "            loss = None\n",
    "        else:\n",
    "            B, T, C = logits.shape\n",
    "            logits = logits.view(B*T, C)\n",
    "            targets = targets.view(B*T)\n",
    "            loss = F.cross_entropy(logits, targets)\n",
    "        \n",
    "        return logits, loss\n",
    "    \n",
    "    def generate(self, index, max_new_tokens):\n",
    "        # index is (B, T) array of indices in the current context\n",
    "        for _ in range(max_new_tokens):\n",
    "            # get the predictions\n",
    "            logits, loss = self.forward(index)\n",
    "            # focus only on the last time step\n",
    "            logits = logits[:, -1, :] # becomes (B, C)\n",
    "            # apply softmax to get probabilities\n",
    "            probs = F.softmax(logits, dim=-1) # (B, C)\n",
    "            # sample from the distribution\n",
    "            index_next = torch.multinomial(probs, num_samples=1) # (B, 1)\n",
    "            # append sampled index to the running sequence\n",
    "            index = torch.cat((index, index_next), dim=1) # (B, T+1)\n",
    "        return index\n",
    "\n",
    "model = BigramLanguageModel(vocab_size)\n",
    "m = model.to(device)\n",
    "\n",
    "context = torch.zeros((1,1), dtype=torch.long, device=device)\n",
    "generated_chars = decode(m.generate(context, max_new_tokens=500)[0].tolist())\n",
    "print(generated_chars)\n",
    "\n"
   ]
  },
  {
   "cell_type": "markdown",
   "id": "f762d707",
   "metadata": {},
   "source": [
    "## optimizer"
   ]
  },
  {
   "cell_type": "code",
   "execution_count": 7,
   "id": "c6c7dfd6",
   "metadata": {},
   "outputs": [
    {
     "name": "stdout",
     "output_type": "stream",
     "text": [
      "step: 0, train loss: 5.051, val loss: 5.051\n",
      "step: 250, train loss: 4.966, val loss: 4.984\n",
      "step: 500, train loss: 4.925, val loss: 4.913\n",
      "step: 750, train loss: 4.833, val loss: 4.841\n",
      "5.163896083831787\n"
     ]
    }
   ],
   "source": [
    "# create a PyTorch optimizer\n",
    "optimizer = torch.optim.AdamW(model.parameters(), lr=learning_rate)\n",
    "\n",
    "for iter in range(max_iters):\n",
    "    if iter % eval_iters == 0:\n",
    "        losses = estimate_loss()\n",
    "        print(f\"step: {iter}, train loss: {losses['train']:.3f}, val loss: {losses['val']:.3f}\")\n",
    "\n",
    "    # sample a batch of data\n",
    "    xb, yb = get_batch('train')\n",
    "\n",
    "    # evaluate the loss\n",
    "    logits, loss = model.forward(xb, yb)\n",
    "    optimizer.zero_grad(set_to_none=True)\n",
    "    loss.backward()\n",
    "    optimizer.step()\n",
    "print(loss.item())"
   ]
  },
  {
   "cell_type": "code",
   "execution_count": 8,
   "id": "3da51abd",
   "metadata": {},
   "outputs": [
    {
     "data": {
      "text/plain": [
       "'\\nIf8rewqvHMtk:EWuzdE3yFSmMpSrOKfbrWOh HiYhNiFRUj?fj)R,7bMjDa\\nLcSnGhuJ8,7C?bMth0h0n;OeBO3Jcw6gz)1D*aLz;Fx86zv:lmbeL-0-q,7CYHj?fGKAPU!S!f!5\\nk\\ufeff\\ufeffEW;p1YgwNF)r,Idy;72a??1oF-,.5(F:58-?Ydd!,V’Yd!:bML-yi97H3Cj(uKvcbvO’-Fh9yipd3x(?9Oqh0)naNYdk5exsFx7\\ufeff’DzwB\\ufeffy;8SOcwaJ7)hN9Klklm4u29ol)6.G4Sy\\nQzVliamM?irIZz’(ombMD’Pys 9Lq:\\ufeffj)it-jGIMKOr’Da.0n.FcwBymb;fPo90\\ufeffySo:vc\\nSr*pl7)qRP-2\\nAGDZL\\nvIjyW:osIfCdehJ1mO1(Q4*(Ll5k?y?WQVVoJmKtNy4:\\ufeff047F4Yx0n5;’-uZW9R46nuTo3es;Ti\\ufeffJU’DZ8R,7.HQaZjWEli z2vI(*u3KOB,M;558cAuB65jMJG)iJir,xx'"
      ]
     },
     "execution_count": 8,
     "metadata": {},
     "output_type": "execute_result"
    }
   ],
   "source": [
    "context = torch.zeros((1,1),dtype=torch.long, device=device)\n",
    "generated_chars = decode(m.generate(context, max_new_tokens=500)[0].tolist())\n",
    "generated_chars"
   ]
  },
  {
   "cell_type": "code",
   "execution_count": 9,
   "id": "a9383bc1",
   "metadata": {},
   "outputs": [
    {
     "name": "stdout",
     "output_type": "stream",
     "text": [
      "\n",
      "CTJ1oj1DIJEWL\n",
      "KNylyFxJr,T1dF97.bc2Z1Itywq\n",
      "EhA!’ECTi\n",
      "2UQQGo’-:R2vH MDK\n",
      "p1iHkvKiW(mSx;r8bR*IEmOxb9QhSj9T1J;NiefWUplK8lmmM;QqG4*IrksHZd16i7.liDWEOKfZZxpdMKr.0-n﻿H2\n",
      "lEkiCP,77?lBk2qhf1oo:w﻿’DYS8c(RPwymlh0re﻿yHio D?lor;glKfm7.1kmFF-?iJ﻿R-jAIWBMQpvKNVVyaQv\n",
      "OGh)0857..’YMG4FSZGVGHc2xLYdp(LP-OMITiGhd!!eirIl8.8.ddjplYM!jj?BiS qA5kEL-9B1??6)qx(To6IoQ!sF6B97.GH’?m0Qc\n",
      "uPZ!3C861D)wDvHhZqR96pD*:JseVMjq1\n",
      "l25*w﻿f1pZvI)FN-x*Dua.0rWq3VVr8r’-2x8-xjtsuq0Kihov﻿R*\n",
      "Zey1fMRP;p.6jdefeW.)oLJIqyrW8?I(MGKiGvn5*OimQ3VV69e1DDO\n"
     ]
    }
   ],
   "source": [
    "context = torch.zeros((1,1), dtype=torch.long, device=device)\n",
    "generated_chars = decode(m.generate(context, max_new_tokens=500)[0].tolist())\n",
    "print(generated_chars)"
   ]
  }
 ],
 "metadata": {
  "kernelspec": {
   "display_name": "cuda-gpt",
   "language": "python",
   "name": "cuda"
  },
  "language_info": {
   "codemirror_mode": {
    "name": "ipython",
    "version": 3
   },
   "file_extension": ".py",
   "mimetype": "text/x-python",
   "name": "python",
   "nbconvert_exporter": "python",
   "pygments_lexer": "ipython3",
   "version": "3.10.12"
  }
 },
 "nbformat": 4,
 "nbformat_minor": 5
}
